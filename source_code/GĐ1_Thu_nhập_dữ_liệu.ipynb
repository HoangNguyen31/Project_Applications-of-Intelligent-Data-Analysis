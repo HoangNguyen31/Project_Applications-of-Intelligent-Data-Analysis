{
  "nbformat": 4,
  "nbformat_minor": 0,
  "metadata": {
    "colab": {
      "provenance": []
    },
    "kernelspec": {
      "name": "python3",
      "display_name": "Python 3"
    },
    "language_info": {
      "name": "python"
    }
  },
  "cells": [
    {
      "cell_type": "markdown",
      "source": [
        "# **ĐỒ ÁN MÔN HỌC: ỨNG DỤNG PHÂN TÍCH DỮ LIỆU THÔNG MINH**\n",
        "\n",
        "## **Thực hiện:**\n",
        "|<font size=4> Tên </font>|<font size=4> MSSV </font>|\n",
        "|-------------------------|----------------------------------|\n",
        "|<font size=4> Nguyễn Đình Hoàng Nguyên </font>|<font size=4> 19120606 </font>|"
      ],
      "metadata": {
        "id": "IZ3_Eh4xoRO-"
      }
    },
    {
      "cell_type": "markdown",
      "source": [
        "# **Giai đoạn 1: Thu nhập dữ liệu**"
      ],
      "metadata": {
        "id": "DYiVXuD2ofZp"
      }
    },
    {
      "cell_type": "markdown",
      "source": [
        "## **1.1. Giới thiệu**\n",
        "- Ta sẽ đóng vai nhà phân tích dữ liệu và chủ đề ta cần phân tích đó là giá thuê căn hộ, chung cư ở Thành phố Hồ Chí Minh.\n",
        "- Điều này bao gồm việc thu thập, xử lý và phân tích dữ liệu liên quan đến giá thuê nhà ở các quận, loại hình căn hộ, chung cư và các yếu tố khác có thể ảnh hưởng đến giá thuê.\n",
        "- Thực hiện thu thập dữ liệu của căn hộ, chung cư cho thuê ở Thành phố Hồ Chí Minh từ trang web [nhatot.com](https://www.nhatot.com/thue-can-ho-chung-cu-tp-ho-chi-minh)."
      ],
      "metadata": {
        "id": "yFWXXFo7tyZZ"
      }
    },
    {
      "cell_type": "markdown",
      "source": [
        "## **1.2. Thu nhập dữ liệu**\n"
      ],
      "metadata": {
        "id": "RyZTWPaLt25L"
      }
    },
    {
      "cell_type": "markdown",
      "source": [
        "### **1.2.1. Thu nhập các param**\n",
        "- Trong source page có một script tag với id **`__NEXT_DATA__`** chứa thông tin query của page tiếp theo:\n",
        "\n",
        "  ![](https://drive.google.com/uc?export=view&id=17UBDdy71-AXn1sVg_KhWjG6L2TCS5SCa)\n",
        "\n",
        "- Dựa vào đó ta có đoán các query param:\n",
        "```js\n",
        "        \"queryFilter\": \"region_v2=13000\\u0026cg=1010\\u0026o=40\\u0026page=3\\u0026st=u,h\\u0026limit=20\\u0026w=1\",\n",
        "        \"standardParam\": {\n",
        "            \"region_v2\": \"13000\",\n",
        "            \"cg\": 1010,\n",
        "            \"o\": 40,\n",
        "            \"page\": 3,\n",
        "            \"st\": \"u%2Ch\",\n",
        "            \"limit\": \"20\",\n",
        "            \"w\": \"1\"\n",
        "          }\n",
        "```"
      ],
      "metadata": {
        "id": "00TzKQ9VuCzl"
      }
    },
    {
      "cell_type": "markdown",
      "source": [
        "### **1.2.2. API**\n",
        "- API URL có dạng như sau: [https://gateway.chotot.com/v1/public/ad-listing?region_v2=13000&cg=1010&limit=1&o=0&st=u,h&page=0](https://gateway.chotot.com/v1/public/ad-listing?region_v2=13000&cg=1010&limit=1&o=0&st=u,h&page=0)\n",
        "- Trong đó:\n",
        "  + `https://gateway.chotot.com/v1/public/ad-listing?` : API Endpoint\n",
        "  + Các query param:\n",
        "      + **region_v2**: mã TP/tỉnh VD: 13000 là HCM, 12000 là HN\n",
        "      + **cg**: mã category VD 1000 tương ứng tất cả căn hộ, chung cư cho thuê.\n",
        "      + **limit**: giới hạn số record (pagination).\n",
        "      + **o**: bắt đầu từ record số mấy (pagination).\n",
        "      + **page**: trang bao nhiêu (pagination).\n",
        "      + **st**: Thứ tự sắp xếp.\n",
        "- Hình ảnh thông tin của một căn hộ, chung cư cho thuê:\n",
        "\n",
        "  ![](https://drive.google.com/uc?export=view&id=1jk4EsNCBaAHZXHmqR7t7MgwJRueVdrHJ)\n",
        "\n",
        "  - Kết quả trên vẫn chưa đầy đủ thông tin như chưa có diện tích và số phòng vệ sinh và một số thông tin khác, do đó cần request tới chi tiết của từng quảng cáo dựa vào **`list_id`**.\n",
        "\n",
        "  ![](https://drive.google.com/uc?export=view&id=1TimBGgddQQECSqoUGz4mJWvSRiHc7-aV)\n",
        "\n",
        "- API URL: [https://gateway.chotot.com/v1/public/ad-listing/112530289](https://gateway.chotot.com/v1/public/ad-listing/112530289) với 114156248 chính là `list_id` của tin quảng cáo và cho thông tin đầy đủ hơn rất nhiều:\n",
        "```js {\n",
        "    \"ad\": {\n",
        "        \"ad_id\": 153043755,\n",
        "        \"list_id\": 112530289,\n",
        "        \"list_time\": 1709391661000,\n",
        "        \"date\": \"7 phút trước\",\n",
        "        \"account_id\": 3674125,\n",
        "        \"projectid\": 4446,\n",
        "        \"project_oid\": \"1152708619\",\n",
        "        \"account_oid\": \"4a683f22f4a234b0a33438534c56ca36\",\n",
        "        \"account_name\": \"Bui Thoai\",\n",
        "        \"state\": \"accepted\",\n",
        "        \"subject\": \"Cho thuê nhanh 2PN Full nội thất ở ngay 7tr tháng\",\n",
        "        \"body\": \"Cho thuê 2PN đầy đủ nội thất ở ngay\\n- 02 máy lạnh\\n- 01 tủ lạnh\\n- 01 máy giặt\\n- Nước nóng\\n- Bếp từ\\n- 02 giường\\n- 02 tủ quần áo\\n- 01 bàn ăn + 4 ghế\\n- sofa\\n- 01 Tivi\\nNhà mới 100% ở ngày\\n\\nLiên hệ Thoại Bùi xem ngay ạ\",\n",
        "        \"category\": 1010,\n",
        "        \"category_name\": \"Căn hộ/Chung cư\",\n",
        "        \"area\": 115,\n",
        "        \"area_name\": \"Huyện Bình Chánh\",\n",
        "        \"region\": 13,\n",
        "        \"region_name\": \"Tp Hồ Chí Minh\",\n",
        "        \"company_ad\": true,\n",
        "        \"type\": \"u\",\n",
        "        \"price\": 7000000,\n",
        "        \"price_string\": \"7 triệu/tháng\",\n",
        "        \"webp_image\": \"https://cdn.chotot.com/mSo06NFJz7VTzkeDFiXgPadclH_IHK78RlRukWP2kr4/preset:listing/plain/33a5452f47927a10adf14ba7a112034a-2856397061761752661.webp\",\n",
        "        \"videos\": [],\n",
        "        \"images\": [\n",
        "            \"https://cdn.chotot.com/GjOsucFL9-UW0W6HDXTzgErf6wy7YB84QSxLw8cxKnU/preset:view/plain/33a5452f47927a10adf14ba7a112034a-2856397061761752661.jpg\",\n",
        "            \"https://cdn.chotot.com/a1gEt413w-_kuKtCPi-SLK66p73NBSEnFXhLrpIJens/preset:view/plain/96e0b41f8fef944d3758ea7c85f780fa-2856397072868531797.jpg\",\n",
        "            \"https://cdn.chotot.com/5yDuDL7S66YTYYT89hDoUYNG_SFIwx60MP4IZvuw4L0/preset:view/plain/42e2be22af6fa30fecb9a9b679b1ba4f-2856397073213607904.jpg\",\n",
        "            \"https://cdn.chotot.com/fBCDrGIRJhhgZi6QZmDs9zBczV1-Cn5J60HTHysTKzI/preset:view/plain/4e131a7074d0f9bc86bac30fca8546f2-2856397073564307483.jpg\",\n",
        "            \"https://cdn.chotot.com/kptk30UHDj10MBNwLmNc178EP0qv58h7Mls5nqKwDlw/preset:view/plain/7c5ddee57512b26e620aa4ef3d1b21e5-2856397073040973461.jpg\",\n",
        "            \"https://cdn.chotot.com/H3ZBVR9H9XiEwsY8MKASqhT5-1ijkG2XB3_wzc_1uys/preset:view/plain/b6b8e5b5fb33a4dde978356701644f90-2856397073206470310.jpg\"\n",
        "        ],\n",
        "        \"number_of_images\": 6,\n",
        "        \"avatar\": \"https://cdn.chotot.com/uac2/3674125\",\n",
        "        \"rooms\": 2,\n",
        "        \"apartment_type\": 1,\n",
        "        \"size\": 54,\n",
        "        \"region_v2\": 13000,\n",
        "        \"area_v2\": 13115,\n",
        "        \"ward\": 9518,\n",
        "        \"ward_name\": \"Xã Phong Phú\",\n",
        "        \"toilets\": 1,\n",
        "        \"pty_map\": \"https://cdn.chotot.com/admincentre/location/10x699100_106x644300_c.jpg\",\n",
        "        \"pty_map_modifier\": 0.0008,\n",
        "        \"price_million_per_m2\": 0.12962962962962962,\n",
        "        \"contain_videos\": 2,\n",
        "        \"location\": \"10.6983,106.6435\",\n",
        "        \"longitude\": 106.6435,\n",
        "        \"latitude\": 10.6983,\n",
        "        \"phone\": \"093410****\",\n",
        "        \"type_name\": \"Cho thuê\",\n",
        "        \"reviewer_image\": \"https://static.chotot.com/thumbs/admin/9999999828.png\",\n",
        "        \"reviewer_nickname\": \"Ngọc Trân\",\n",
        "        \"thumbnail_image\": \"https://cdn.chotot.com/d_9j6HtsmrFaZhg1YYfBMaLw2zEUSI68At-q7bIpjJo/preset:listing/plain/33a5452f47927a10adf14ba7a112034a-2856397061761752661.jpg\",\n",
        "        \"owner\": false,\n",
        "        \"protection_entitlement\": true,\n",
        "        \"escrow_can_deposit\": 2,\n",
        "        \"zero_deposit\": false,\n",
        "        \"detail_address\": \"KDC Phong Phú 4, Đường Trịnh Quang Nghị, Xã Phong Phú, Bình Chánh, Hồ Chí Minh\",\n",
        "        \"street_name\": \"Trịnh Quang Nghị\",\n",
        "        \"pty_jupiter\": \"0\",\n",
        "        \"label_campaigns\": null,\n",
        "        \"ad_labels\": null\n",
        "    },\n",
        "    \"parameters\": [\n",
        "        {\n",
        "            \"id\": \"ward\",\n",
        "            \"value\": \"Xã Phong Phú\",\n",
        "            \"label\": \"Phường, thị xã, thị trấn\"\n",
        "        },\n",
        "        {\n",
        "            \"id\": \"size\",\n",
        "            \"value\": \"54 m²\",\n",
        "            \"label\": \"Diện tích\"\n",
        "        },\n",
        "        {\n",
        "            \"id\": \"rooms\",\n",
        "            \"value\": \"2 phòng\",\n",
        "            \"label\": \"Số phòng ngủ\"\n",
        "        },\n",
        "        {\n",
        "            \"id\": \"toilets\",\n",
        "            \"value\": \"1 phòng\",\n",
        "            \"label\": \"Số phòng vệ sinh\"\n",
        "        },\n",
        "        {\n",
        "            \"id\": \"apartment_type\",\n",
        "            \"value\": \"Chung cư\",\n",
        "            \"label\": \"Loại hình căn hộ\"\n",
        "        },\n",
        "        {\n",
        "            \"id\": \"area\",\n",
        "            \"value\": \"Huyện Bình Chánh\",\n",
        "            \"label\": \"Quận, Huyện\"\n",
        "        },\n",
        "        {\n",
        "            \"id\": \"region\",\n",
        "            \"value\": \"Tp Hồ Chí Minh\",\n",
        "            \"label\": \"Tỉnh, thành phố\"\n",
        "        },\n",
        "        {\n",
        "            \"id\": \"address\",\n",
        "            \"value\": \"Trịnh Quang Nghị, Xã Phong Phú, Huyện Bình Chánh, Tp Hồ Chí Minh\",\n",
        "            \"label\": \"Địa chỉ\"\n",
        "        }\n",
        "    ],\n",
        "    \"ad_params\": {\n",
        "        \"address\": {\n",
        "            \"id\": \"address\",\n",
        "            \"value\": \"Trịnh Quang Nghị, Xã Phong Phú, Huyện Bình Chánh, Tp Hồ Chí Minh\",\n",
        "            \"label\": \"Địa chỉ\"\n",
        "        },\n",
        "        \"apartment_type\": {\n",
        "            \"id\": \"apartment_type\",\n",
        "            \"value\": \"Chung cư\",\n",
        "            \"label\": \"Loại hình căn hộ\"\n",
        "        },\n",
        "        \"area\": {\n",
        "            \"id\": \"area\",\n",
        "            \"value\": \"Huyện Bình Chánh\",\n",
        "            \"label\": \"Quận, Huyện\"\n",
        "        },\n",
        "        \"region\": {\n",
        "            \"id\": \"region\",\n",
        "            \"value\": \"Tp Hồ Chí Minh\",\n",
        "            \"label\": \"Tỉnh, thành phố\"\n",
        "        },\n",
        "        \"rooms\": {\n",
        "            \"id\": \"rooms\",\n",
        "            \"value\": \"2 phòng\",\n",
        "            \"label\": \"Số phòng ngủ\"\n",
        "        },\n",
        "        \"size\": {\n",
        "            \"id\": \"size\",\n",
        "            \"value\": \"54 m²\",\n",
        "            \"label\": \"Diện tích\"\n",
        "        },\n",
        "        \"toilets\": {\n",
        "            \"id\": \"toilets\",\n",
        "            \"value\": \"1 phòng\",\n",
        "            \"label\": \"Số phòng vệ sinh\"\n",
        "        },\n",
        "        \"ward\": {\n",
        "            \"id\": \"ward\",\n",
        "            \"value\": \"Xã Phong Phú\",\n",
        "            \"label\": \"Phường, thị xã, thị trấn\"\n",
        "        }\n",
        "    }\n",
        "}\n",
        "```"
      ],
      "metadata": {
        "id": "J6P0IL8auLmz"
      }
    },
    {
      "cell_type": "markdown",
      "source": [
        "### **1.2.3. Lựa chọn thông tin**\n",
        "Ta sẽ cần thu nhập các thông tin sau:\n",
        "\n",
        "| Thuộc tính           | Mô tả                                |\n",
        "|----------------------|--------------------------------------|\n",
        "| ad_id                | ID của quảng cáo                    |\n",
        "| list_id              | ID trong danh sách quảng cáo        |\n",
        "| category             | Mã loại thuê                        |\n",
        "| category_name        | Tên loại thuê                       |\n",
        "| region               | Mã tỉnh                             |\n",
        "| region_name          | Tên tỉnh                            |\n",
        "| area                 | Mã quận                             |\n",
        "| area_name            | Tên quận/huyện                      |\n",
        "| ward                 | Mã phường                           |\n",
        "| ward_name            | Tên phường                          |\n",
        "| street_name          | Tên đường                           |\n",
        "| company_ad           | Là quảng cáo của công ty hay không? |\n",
        "| apartment_type       | Loại căn hộ, chung cư               |\n",
        "| size                 | Kích thước phòng                    |\n",
        "| rooms                | Số phòng                            |\n",
        "| toilets              | Số toilet                           |\n",
        "| longitude            | Kinh độ                             |\n",
        "| latitude             | Vĩ độ                               |\n",
        "| owner                | Có phải chủ nhà không?              |\n",
        "| zero_deposit         | Có đặt cọc hay không?               |\n",
        "| deposit              | Tiền đặt cọc                        |\n",
        "| price_million_per_m2 | Giá trên mỗi mét vuông (VNĐ)        |\n",
        "| price                | Giá phòng(VNĐ)                      |\n"
      ],
      "metadata": {
        "id": "PurxfZ3YutcG"
      }
    },
    {
      "cell_type": "markdown",
      "source": [
        "## **1.3. Thực hiện**"
      ],
      "metadata": {
        "id": "5bmqqT3PuVJa"
      }
    },
    {
      "cell_type": "markdown",
      "source": [
        "### **1.3.1. Import thư viện**"
      ],
      "metadata": {
        "id": "AnIq82pdaQhO"
      }
    },
    {
      "cell_type": "code",
      "execution_count": 1,
      "metadata": {
        "id": "U6zcHu_d_QWm"
      },
      "outputs": [],
      "source": [
        "import csv\n",
        "import time\n",
        "import requests\n",
        "import json\n",
        "import numpy as np"
      ]
    },
    {
      "cell_type": "markdown",
      "source": [
        "### **1.3.2. Định nghĩa và requests URL**"
      ],
      "metadata": {
        "id": "Lv0L1H0PaXjb"
      }
    },
    {
      "cell_type": "code",
      "source": [
        "BASE_URL = \"https://gateway.chotot.com/v1/public/ad-listing\"\n",
        "LIMIT = 100\n",
        "LIMIT_PAGE = 200\n",
        "SLEEP_TIME = 0.5\n",
        "REGION_V2 = 13000\n",
        "CG = 1010"
      ],
      "metadata": {
        "id": "YqI1sDK__nBf"
      },
      "execution_count": 2,
      "outputs": []
    },
    {
      "cell_type": "code",
      "source": [
        "def get_data_per_page(page):\n",
        "  url = f\"{BASE_URL}?region_v2={REGION_V2}&cg={CG}&limit={LIMIT}&o={LIMIT * page}&st=u,h&page={page}&w=1\"\n",
        "  res = requests.get(url)\n",
        "  time.sleep(SLEEP_TIME)\n",
        "  data = res.json()\n",
        "  return data[\"ads\"], url"
      ],
      "metadata": {
        "id": "iJyAQSPp_ogo"
      },
      "execution_count": 3,
      "outputs": []
    },
    {
      "cell_type": "code",
      "source": [
        "def get_data():\n",
        "  all_apartments = []\n",
        "  for i in range(LIMIT_PAGE):\n",
        "    list_apartments, url = get_data_per_page(i)\n",
        "    all_apartments.extend(list_apartments)\n",
        "    if i % 10 == 0:\n",
        "      print(f\"Thu nhập dữ liệu ở trang {i}: {url}\")\n",
        "  return all_apartments"
      ],
      "metadata": {
        "id": "y5aPWcd7JiBb"
      },
      "execution_count": 4,
      "outputs": []
    },
    {
      "cell_type": "code",
      "source": [
        "apartments = get_data()"
      ],
      "metadata": {
        "colab": {
          "base_uri": "https://localhost:8080/"
        },
        "id": "FuT-ApwnJllq",
        "outputId": "c6f470f0-9b24-46d1-bcf3-022de2239043"
      },
      "execution_count": 5,
      "outputs": [
        {
          "output_type": "stream",
          "name": "stdout",
          "text": [
            "Thu nhập dữ liệu ở trang 0: https://gateway.chotot.com/v1/public/ad-listing?region_v2=13000&cg=1010&limit=100&o=0&st=u,h&page=0&w=1\n",
            "Thu nhập dữ liệu ở trang 10: https://gateway.chotot.com/v1/public/ad-listing?region_v2=13000&cg=1010&limit=100&o=1000&st=u,h&page=10&w=1\n",
            "Thu nhập dữ liệu ở trang 20: https://gateway.chotot.com/v1/public/ad-listing?region_v2=13000&cg=1010&limit=100&o=2000&st=u,h&page=20&w=1\n",
            "Thu nhập dữ liệu ở trang 30: https://gateway.chotot.com/v1/public/ad-listing?region_v2=13000&cg=1010&limit=100&o=3000&st=u,h&page=30&w=1\n",
            "Thu nhập dữ liệu ở trang 40: https://gateway.chotot.com/v1/public/ad-listing?region_v2=13000&cg=1010&limit=100&o=4000&st=u,h&page=40&w=1\n",
            "Thu nhập dữ liệu ở trang 50: https://gateway.chotot.com/v1/public/ad-listing?region_v2=13000&cg=1010&limit=100&o=5000&st=u,h&page=50&w=1\n",
            "Thu nhập dữ liệu ở trang 60: https://gateway.chotot.com/v1/public/ad-listing?region_v2=13000&cg=1010&limit=100&o=6000&st=u,h&page=60&w=1\n",
            "Thu nhập dữ liệu ở trang 70: https://gateway.chotot.com/v1/public/ad-listing?region_v2=13000&cg=1010&limit=100&o=7000&st=u,h&page=70&w=1\n",
            "Thu nhập dữ liệu ở trang 80: https://gateway.chotot.com/v1/public/ad-listing?region_v2=13000&cg=1010&limit=100&o=8000&st=u,h&page=80&w=1\n",
            "Thu nhập dữ liệu ở trang 90: https://gateway.chotot.com/v1/public/ad-listing?region_v2=13000&cg=1010&limit=100&o=9000&st=u,h&page=90&w=1\n",
            "Thu nhập dữ liệu ở trang 100: https://gateway.chotot.com/v1/public/ad-listing?region_v2=13000&cg=1010&limit=100&o=10000&st=u,h&page=100&w=1\n",
            "Thu nhập dữ liệu ở trang 110: https://gateway.chotot.com/v1/public/ad-listing?region_v2=13000&cg=1010&limit=100&o=11000&st=u,h&page=110&w=1\n",
            "Thu nhập dữ liệu ở trang 120: https://gateway.chotot.com/v1/public/ad-listing?region_v2=13000&cg=1010&limit=100&o=12000&st=u,h&page=120&w=1\n",
            "Thu nhập dữ liệu ở trang 130: https://gateway.chotot.com/v1/public/ad-listing?region_v2=13000&cg=1010&limit=100&o=13000&st=u,h&page=130&w=1\n",
            "Thu nhập dữ liệu ở trang 140: https://gateway.chotot.com/v1/public/ad-listing?region_v2=13000&cg=1010&limit=100&o=14000&st=u,h&page=140&w=1\n",
            "Thu nhập dữ liệu ở trang 150: https://gateway.chotot.com/v1/public/ad-listing?region_v2=13000&cg=1010&limit=100&o=15000&st=u,h&page=150&w=1\n",
            "Thu nhập dữ liệu ở trang 160: https://gateway.chotot.com/v1/public/ad-listing?region_v2=13000&cg=1010&limit=100&o=16000&st=u,h&page=160&w=1\n",
            "Thu nhập dữ liệu ở trang 170: https://gateway.chotot.com/v1/public/ad-listing?region_v2=13000&cg=1010&limit=100&o=17000&st=u,h&page=170&w=1\n",
            "Thu nhập dữ liệu ở trang 180: https://gateway.chotot.com/v1/public/ad-listing?region_v2=13000&cg=1010&limit=100&o=18000&st=u,h&page=180&w=1\n",
            "Thu nhập dữ liệu ở trang 190: https://gateway.chotot.com/v1/public/ad-listing?region_v2=13000&cg=1010&limit=100&o=19000&st=u,h&page=190&w=1\n"
          ]
        }
      ]
    },
    {
      "cell_type": "markdown",
      "source": [
        "### **1.3.3. Lấy dữ liệu từng căn hộ, chung cư**"
      ],
      "metadata": {
        "id": "e3bMiZrfakXF"
      }
    },
    {
      "cell_type": "markdown",
      "source": [
        "- Lấy toàn bộ thông tin của từng căn hộ, chung cư"
      ],
      "metadata": {
        "id": "wqkmZ-9jbDgP"
      }
    },
    {
      "cell_type": "code",
      "source": [
        "def get_apartments_detail(list_id):\n",
        "  url = f\"{BASE_URL}/{list_id}\"\n",
        "  res = requests.get(url)\n",
        "  data = res.json()\n",
        "  return data"
      ],
      "metadata": {
        "id": "s3eqp8X6cmLh"
      },
      "execution_count": 6,
      "outputs": []
    },
    {
      "cell_type": "code",
      "source": [
        "def get_all_apartments():\n",
        "  all_apartments = []\n",
        "  ad_listing_id = list(set([real_estate[\"list_id\"] for real_estate in apartments]))\n",
        "  for i, list_id in enumerate(ad_listing_id):\n",
        "    if i % 100 == 0:\n",
        "      print(f\"Lấy thông tin căn hộ, chung cư thứ #{i}, list_id: {list_id}\")\n",
        "    real_estate = get_apartments_detail(list_id)\n",
        "    all_apartments.append(real_estate)\n",
        "  return all_apartments"
      ],
      "metadata": {
        "id": "_aQx6nz-asiD"
      },
      "execution_count": 7,
      "outputs": []
    },
    {
      "cell_type": "code",
      "source": [
        "all_apartments = get_all_apartments()"
      ],
      "metadata": {
        "colab": {
          "base_uri": "https://localhost:8080/"
        },
        "id": "-3ynA8qEatmJ",
        "outputId": "69be495a-7392-4e0a-bc20-67c8fdee9945"
      },
      "execution_count": 8,
      "outputs": [
        {
          "output_type": "stream",
          "name": "stdout",
          "text": [
            "Lấy thông tin căn hộ, chung cư thứ #0, list_id: 114163716\n",
            "Lấy thông tin căn hộ, chung cư thứ #100, list_id: 113115936\n",
            "Lấy thông tin căn hộ, chung cư thứ #200, list_id: 114165221\n",
            "Lấy thông tin căn hộ, chung cư thứ #300, list_id: 114035140\n",
            "Lấy thông tin căn hộ, chung cư thứ #400, list_id: 114166914\n",
            "Lấy thông tin căn hộ, chung cư thứ #500, list_id: 112594847\n",
            "Lấy thông tin căn hộ, chung cư thứ #600, list_id: 114168383\n",
            "Lấy thông tin căn hộ, chung cư thứ #700, list_id: 114169169\n",
            "Lấy thông tin căn hộ, chung cư thứ #800, list_id: 114170023\n",
            "Lấy thông tin căn hộ, chung cư thứ #900, list_id: 114170633\n",
            "Lấy thông tin căn hộ, chung cư thứ #1000, list_id: 114171085\n",
            "Lấy thông tin căn hộ, chung cư thứ #1100, list_id: 105520959\n",
            "Lấy thông tin căn hộ, chung cư thứ #1200, list_id: 114172656\n",
            "Lấy thông tin căn hộ, chung cư thứ #1300, list_id: 113386928\n",
            "Lấy thông tin căn hộ, chung cư thứ #1400, list_id: 114043237\n",
            "Lấy thông tin căn hộ, chung cư thứ #1500, list_id: 114044010\n",
            "Lấy thông tin căn hộ, chung cư thứ #1600, list_id: 111685478\n",
            "Lấy thông tin căn hộ, chung cư thứ #1700, list_id: 114045680\n",
            "Lấy thông tin căn hộ, chung cư thứ #1800, list_id: 114046555\n",
            "Lấy thông tin căn hộ, chung cư thứ #1900, list_id: 105658725\n",
            "Lấy thông tin căn hộ, chung cư thứ #2000, list_id: 114048086\n",
            "Lấy thông tin căn hộ, chung cư thứ #2100, list_id: 114048764\n",
            "Lấy thông tin căn hộ, chung cư thứ #2200, list_id: 114180678\n",
            "Lấy thông tin căn hộ, chung cư thứ #2300, list_id: 114050311\n",
            "Lấy thông tin căn hộ, chung cư thứ #2400, list_id: 114182128\n",
            "Lấy thông tin căn hộ, chung cư thứ #2500, list_id: 106973761\n",
            "Lấy thông tin căn hộ, chung cư thứ #2600, list_id: 114052362\n",
            "Lấy thông tin căn hộ, chung cư thứ #2700, list_id: 114053064\n",
            "Lấy thông tin căn hộ, chung cư thứ #2800, list_id: 114184874\n",
            "Lấy thông tin căn hộ, chung cư thứ #2900, list_id: 113530225\n",
            "Lấy thông tin căn hộ, chung cư thứ #3000, list_id: 114186317\n",
            "Lấy thông tin căn hộ, chung cư thứ #3100, list_id: 88234964\n",
            "Lấy thông tin căn hộ, chung cư thứ #3200, list_id: 114187816\n",
            "Lấy thông tin căn hộ, chung cư thứ #3300, list_id: 114188474\n",
            "Lấy thông tin căn hộ, chung cư thứ #3400, list_id: 111436596\n",
            "Lấy thông tin căn hộ, chung cư thứ #3500, list_id: 114189869\n",
            "Lấy thông tin căn hộ, chung cư thứ #3600, list_id: 114059426\n",
            "Lấy thông tin căn hộ, chung cư thứ #3700, list_id: 108293017\n",
            "Lấy thông tin căn hộ, chung cư thứ #3800, list_id: 112488087\n",
            "Lấy thông tin căn hộ, chung cư thứ #3900, list_id: 114192889\n",
            "Lấy thông tin căn hộ, chung cư thứ #4000, list_id: 113538411\n",
            "Lấy thông tin căn hộ, chung cư thứ #4100, list_id: 113801152\n",
            "Lấy thông tin căn hộ, chung cư thứ #4200, list_id: 114064076\n",
            "Lấy thông tin căn hộ, chung cư thứ #4300, list_id: 114195954\n",
            "Lấy thông tin căn hộ, chung cư thứ #4400, list_id: 114065604\n",
            "Lấy thông tin căn hộ, chung cư thứ #4500, list_id: 113542024\n",
            "Lấy thông tin căn hộ, chung cư thứ #4600, list_id: 114067119\n",
            "Lấy thông tin căn hộ, chung cư thứ #4700, list_id: 102402332\n",
            "Lấy thông tin căn hộ, chung cư thứ #4800, list_id: 106597385\n",
            "Lấy thông tin căn hộ, chung cư thứ #4900, list_id: 113938190\n",
            "Lấy thông tin căn hộ, chung cư thứ #5000, list_id: 113414618\n",
            "Lấy thông tin căn hộ, chung cư thứ #5100, list_id: 113939580\n",
            "Lấy thông tin căn hộ, chung cư thứ #5200, list_id: 114202328\n",
            "Lấy thông tin căn hộ, chung cư thứ #5300, list_id: 113940878\n",
            "Lấy thông tin căn hộ, chung cư thứ #5400, list_id: 114203606\n",
            "Lấy thông tin căn hộ, chung cư thứ #5500, list_id: 114204176\n",
            "Lấy thông tin căn hộ, chung cư thứ #5600, list_id: 114204704\n",
            "Lấy thông tin căn hộ, chung cư thứ #5700, list_id: 114205212\n",
            "Lấy thông tin căn hộ, chung cư thứ #5800, list_id: 114074814\n",
            "Lấy thông tin căn hộ, chung cư thứ #5900, list_id: 111322988\n",
            "Lấy thông tin căn hộ, chung cư thứ #6000, list_id: 111716819\n",
            "Lấy thông tin căn hộ, chung cư thứ #6100, list_id: 112241758\n",
            "Lấy thông tin căn hộ, chung cư thứ #6200, list_id: 112373581\n",
            "Lấy thông tin căn hộ, chung cư thứ #6300, list_id: 113029628\n",
            "Lấy thông tin căn hộ, chung cư thứ #6400, list_id: 112112926\n",
            "Lấy thông tin căn hộ, chung cư thứ #6500, list_id: 111327228\n",
            "Lấy thông tin căn hộ, chung cư thứ #6600, list_id: 114211564\n",
            "Lấy thông tin căn hộ, chung cư thứ #6700, list_id: 114081313\n",
            "Lấy thông tin căn hộ, chung cư thứ #6800, list_id: 114212883\n",
            "Lấy thông tin căn hộ, chung cư thứ #6900, list_id: 114213506\n",
            "Lấy thông tin căn hộ, chung cư thứ #7000, list_id: 114214104\n",
            "Lấy thông tin căn hộ, chung cư thứ #7100, list_id: 113952576\n",
            "Lấy thông tin căn hộ, chung cư thứ #7200, list_id: 114215274\n",
            "Lấy thông tin căn hộ, chung cư thứ #7300, list_id: 113953793\n",
            "Lấy thông tin căn hộ, chung cư thứ #7400, list_id: 113954624\n",
            "Lấy thông tin căn hộ, chung cư thứ #7500, list_id: 113562100\n",
            "Lấy thông tin căn hộ, chung cư thứ #7600, list_id: 113955958\n",
            "Lấy thông tin căn hộ, chung cư thứ #7700, list_id: 113039141\n",
            "Lấy thông tin căn hộ, chung cư thứ #7800, list_id: 113957308\n",
            "Lấy thông tin căn hộ, chung cư thứ #7900, list_id: 114089087\n",
            "Lấy thông tin căn hộ, chung cư thứ #8000, list_id: 114220806\n",
            "Lấy thông tin căn hộ, chung cư thứ #8100, list_id: 113959247\n",
            "Lấy thông tin căn hộ, chung cư thứ #8200, list_id: 114222061\n",
            "Lấy thông tin căn hộ, chung cư thứ #8300, list_id: 103605833\n",
            "Lấy thông tin căn hộ, chung cư thứ #8400, list_id: 114092219\n",
            "Lấy thông tin căn hộ, chung cư thứ #8500, list_id: 113306395\n",
            "Lấy thông tin căn hộ, chung cư thứ #8600, list_id: 114093470\n",
            "Lấy thông tin căn hộ, chung cư thứ #8700, list_id: 113962881\n",
            "Lấy thông tin căn hộ, chung cư thứ #8800, list_id: 114225629\n",
            "Lấy thông tin căn hộ, chung cư thứ #8900, list_id: 113964132\n",
            "Lấy thông tin căn hộ, chung cư thứ #9000, list_id: 114095967\n",
            "Lấy thông tin căn hộ, chung cư thứ #9100, list_id: 113965600\n",
            "Lấy thông tin căn hộ, chung cư thứ #9200, list_id: 114228504\n",
            "Lấy thông tin căn hộ, chung cư thứ #9300, list_id: 112394314\n",
            "Lấy thông tin căn hộ, chung cư thứ #9400, list_id: 114098909\n",
            "Lấy thông tin căn hộ, chung cư thứ #9500, list_id: 109249841\n",
            "Lấy thông tin căn hộ, chung cư thứ #9600, list_id: 114100198\n",
            "Lấy thông tin căn hộ, chung cư thứ #9700, list_id: 114100768\n",
            "Lấy thông tin căn hộ, chung cư thứ #9800, list_id: 114232546\n",
            "Lấy thông tin căn hộ, chung cư thứ #9900, list_id: 114233187\n",
            "Lấy thông tin căn hộ, chung cư thứ #10000, list_id: 114102802\n",
            "Lấy thông tin căn hộ, chung cư thứ #10100, list_id: 114103314\n",
            "Lấy thông tin căn hộ, chung cư thứ #10200, list_id: 113972865\n",
            "Lấy thông tin căn hộ, chung cư thứ #10300, list_id: 113973562\n",
            "Lấy thông tin căn hộ, chung cư thứ #10400, list_id: 112532462\n",
            "Lấy thông tin căn hộ, chung cư thứ #10500, list_id: 111353472\n",
            "Lấy thông tin căn hộ, chung cư thứ #10600, list_id: 114237766\n",
            "Lấy thông tin căn hộ, chung cư thứ #10700, list_id: 114238485\n",
            "Lấy thông tin căn hộ, chung cư thứ #10800, list_id: 113977166\n",
            "Lấy thông tin căn hộ, chung cư thứ #10900, list_id: 114240003\n",
            "Lấy thông tin căn hộ, chung cư thứ #11000, list_id: 113323109\n",
            "Lấy thông tin căn hộ, chung cư thứ #11100, list_id: 108343028\n",
            "Lấy thông tin căn hộ, chung cư thứ #11200, list_id: 114242020\n",
            "Lấy thông tin căn hộ, chung cư thứ #11300, list_id: 113980424\n",
            "Lấy thông tin căn hộ, chung cư thứ #11400, list_id: 113063539\n",
            "Lấy thông tin căn hộ, chung cư thứ #11500, list_id: 114243562\n",
            "Lấy thông tin căn hộ, chung cư thứ #11600, list_id: 113588833\n",
            "Lấy thông tin căn hộ, chung cư thứ #11700, list_id: 113982671\n",
            "Lấy thông tin căn hộ, chung cư thứ #11800, list_id: 113459126\n",
            "Lấy thông tin căn hộ, chung cư thứ #11900, list_id: 113590984\n",
            "Lấy thông tin căn hộ, chung cư thứ #12000, list_id: 114115758\n",
            "Lấy thông tin căn hộ, chung cư thứ #12100, list_id: 114247423\n",
            "Lấy thông tin căn hộ, chung cư thứ #12200, list_id: 114247925\n",
            "Lấy thông tin căn hộ, chung cư thứ #12300, list_id: 114248349\n",
            "Lấy thông tin căn hộ, chung cư thứ #12400, list_id: 114249119\n",
            "Lấy thông tin căn hộ, chung cư thứ #12500, list_id: 113594423\n",
            "Lấy thông tin căn hộ, chung cư thứ #12600, list_id: 114250451\n",
            "Lấy thông tin căn hộ, chung cư thứ #12700, list_id: 113595742\n",
            "Lấy thông tin căn hộ, chung cư thứ #12800, list_id: 114251720\n",
            "Lấy thông tin căn hộ, chung cư thứ #12900, list_id: 113990312\n",
            "Lấy thông tin căn hộ, chung cư thứ #13000, list_id: 114122008\n",
            "Lấy thông tin căn hộ, chung cư thứ #13100, list_id: 114122568\n",
            "Lấy thông tin căn hộ, chung cư thứ #13200, list_id: 114123069\n",
            "Lấy thông tin căn hộ, chung cư thứ #13300, list_id: 114254788\n",
            "Lấy thông tin căn hộ, chung cư thứ #13400, list_id: 114124344\n",
            "Lấy thông tin căn hộ, chung cư thứ #13500, list_id: 114256002\n",
            "Lấy thông tin căn hộ, chung cư thứ #13600, list_id: 114125444\n",
            "Lấy thông tin căn hộ, chung cư thứ #13700, list_id: 96824451\n",
            "Lấy thông tin căn hộ, chung cư thứ #13800, list_id: 114126541\n",
            "Lấy thông tin căn hộ, chung cư thứ #13900, list_id: 114258100\n",
            "Lấy thông tin căn hộ, chung cư thứ #14000, list_id: 110326439\n",
            "Lấy thông tin căn hộ, chung cư thứ #14100, list_id: 114128003\n",
            "Lấy thông tin căn hộ, chung cư thứ #14200, list_id: 114128549\n",
            "Lấy thông tin căn hộ, chung cư thứ #14300, list_id: 114129123\n",
            "Lấy thông tin căn hộ, chung cư thứ #14400, list_id: 113998621\n",
            "Lấy thông tin căn hộ, chung cư thứ #14500, list_id: 90275137\n",
            "Lấy thông tin căn hộ, chung cư thứ #14600, list_id: 114261948\n",
            "Lấy thông tin căn hộ, chung cư thứ #14700, list_id: 114131431\n",
            "Lấy thông tin căn hộ, chung cư thứ #14800, list_id: 113476697\n",
            "Lấy thông tin căn hộ, chung cư thứ #14900, list_id: 114263670\n",
            "Lấy thông tin căn hộ, chung cư thứ #15000, list_id: 112560168\n",
            "Lấy thông tin căn hộ, chung cư thứ #15100, list_id: 114133554\n",
            "Lấy thông tin căn hộ, chung cư thứ #15200, list_id: 113609875\n",
            "Lấy thông tin căn hộ, chung cư thứ #15300, list_id: 113217234\n",
            "Lấy thông tin căn hộ, chung cư thứ #15400, list_id: 102076825\n",
            "Lấy thông tin căn hộ, chung cư thứ #15500, list_id: 114005052\n",
            "Lấy thông tin căn hộ, chung cư thứ #15600, list_id: 114267810\n",
            "Lấy thông tin căn hộ, chung cư thứ #15700, list_id: 114137386\n",
            "Lấy thông tin căn hộ, chung cư thứ #15800, list_id: 114006970\n",
            "Lấy thông tin căn hộ, chung cư thứ #15900, list_id: 114269750\n",
            "Lấy thông tin căn hộ, chung cư thứ #16000, list_id: 114270392\n",
            "Lấy thông tin căn hộ, chung cư thứ #16100, list_id: 113746715\n",
            "Lấy thông tin căn hộ, chung cư thứ #16200, list_id: 114271693\n",
            "Lấy thông tin căn hộ, chung cư thứ #16300, list_id: 113747876\n",
            "Lấy thông tin căn hộ, chung cư thứ #16400, list_id: 109160818\n",
            "Lấy thông tin căn hộ, chung cư thứ #16500, list_id: 114011208\n",
            "Lấy thông tin căn hộ, chung cư thứ #16600, list_id: 114273911\n",
            "Lấy thông tin căn hộ, chung cư thứ #16700, list_id: 114143310\n",
            "Lấy thông tin căn hộ, chung cư thứ #16800, list_id: 114275058\n",
            "Lấy thông tin căn hộ, chung cư thứ #16900, list_id: 114013562\n",
            "Lấy thông tin căn hộ, chung cư thứ #17000, list_id: 114145237\n",
            "Lấy thông tin căn hộ, chung cư thứ #17100, list_id: 112310773\n",
            "Lấy thông tin căn hộ, chung cư thứ #17200, list_id: 114015385\n",
            "Lấy thông tin căn hộ, chung cư thứ #17300, list_id: 114278157\n",
            "Lấy thông tin căn hộ, chung cư thứ #17400, list_id: 114278822\n",
            "Lấy thông tin căn hộ, chung cư thứ #17500, list_id: 108381253\n",
            "Lấy thông tin căn hộ, chung cư thứ #17600, list_id: 114149078\n",
            "Lấy thông tin căn hộ, chung cư thứ #17700, list_id: 114018608\n",
            "Lấy thông tin căn hộ, chung cư thứ #17800, list_id: 114281418\n",
            "Lấy thông tin căn hộ, chung cư thứ #17900, list_id: 114019984\n",
            "Lấy thông tin căn hộ, chung cư thứ #18000, list_id: 114151664\n",
            "Lấy thông tin căn hộ, chung cư thứ #18100, list_id: 114152191\n",
            "Lấy thông tin căn hộ, chung cư thứ #18200, list_id: 114021686\n",
            "Lấy thông tin căn hộ, chung cư thứ #18300, list_id: 114022230\n",
            "Lấy thông tin căn hộ, chung cư thứ #18400, list_id: 114022761\n",
            "Lấy thông tin căn hộ, chung cư thứ #18500, list_id: 112974798\n",
            "Lấy thông tin căn hộ, chung cư thứ #18600, list_id: 113892802\n",
            "Lấy thông tin căn hộ, chung cư thứ #18700, list_id: 104718405\n",
            "Lấy thông tin căn hộ, chung cư thứ #18800, list_id: 114287249\n",
            "Lấy thông tin căn hộ, chung cư thứ #18900, list_id: 114156788\n",
            "Lấy thông tin căn hộ, chung cư thứ #19000, list_id: 114157391\n",
            "Lấy thông tin căn hộ, chung cư thứ #19100, list_id: 114026847\n",
            "Lấy thông tin căn hộ, chung cư thứ #19200, list_id: 113503204\n",
            "Lấy thông tin căn hộ, chung cư thứ #19300, list_id: 114027975\n",
            "Lấy thông tin căn hộ, chung cư thứ #19400, list_id: 114290619\n",
            "Lấy thông tin căn hộ, chung cư thứ #19500, list_id: 114028950\n",
            "Lấy thông tin căn hộ, chung cư thứ #19600, list_id: 114029795\n",
            "Lấy thông tin căn hộ, chung cư thứ #19700, list_id: 113899451\n",
            "Lấy thông tin căn hộ, chung cư thứ #19800, list_id: 113769161\n",
            "Lấy thông tin căn hộ, chung cư thứ #19900, list_id: 114163021\n"
          ]
        }
      ]
    },
    {
      "cell_type": "markdown",
      "source": [
        "- Lọc dữ liệu cần dùng"
      ],
      "metadata": {
        "id": "muwWFyadbGoL"
      }
    },
    {
      "cell_type": "code",
      "source": [
        "def filter_real_estate(apartments):\n",
        "  new_apartments = { key: apartments[\"ad\"][key] if key in apartments[\"ad\"] else np.nan for key in attribute_names}\n",
        "  if apartments[\"ad_params\"][\"apartment_type\"][\"value\"]:\n",
        "    new_apartments[\"apartment_type\"] = apartments[\"ad_params\"][\"apartment_type\"][\"value\"]\n",
        "  if new_apartments[\"deposit\"] == \"\":\n",
        "    new_apartments[\"deposit\"] = np.nan\n",
        "  return new_apartments"
      ],
      "metadata": {
        "id": "nRjbcRGef5OJ"
      },
      "execution_count": 9,
      "outputs": []
    },
    {
      "cell_type": "code",
      "source": [
        "attribute_names = [\"ad_id\", \"list_id\", \"category\", \"category_name\", \"region\", \"region_name\", \"area\", \"area_name\",\n",
        "                   \"ward\", \"ward_name\", \"street_name\", \"company_ad\", \"apartment_type\", \"size\", \"rooms\", \"toilets\",\n",
        "                   \"longitude\", \"latitude\", \"owner\", \"deposit\", \"zero_deposit\", \"price_million_per_m2\", \"price\"]\n",
        "\n",
        "all_apartments = list(filter(lambda a: \"ad\" in a, all_apartments))\n",
        "final_apartments = list(map(filter_real_estate, all_apartments))"
      ],
      "metadata": {
        "id": "xjrsoSi7bNtY"
      },
      "execution_count": 10,
      "outputs": []
    },
    {
      "cell_type": "markdown",
      "source": [
        "### **Lưu dữ liệu dưới file `json`**"
      ],
      "metadata": {
        "id": "yROPsADbbXxq"
      }
    },
    {
      "cell_type": "code",
      "source": [
        "!mkdir data"
      ],
      "metadata": {
        "id": "F5kMQg4Y32Bz"
      },
      "execution_count": 11,
      "outputs": []
    },
    {
      "cell_type": "code",
      "source": [
        "with open('./data/apartments.json', 'w', encoding='utf-8') as f:\n",
        "  json.dump(final_apartments, f, ensure_ascii=False, indent=4)"
      ],
      "metadata": {
        "id": "eMGzFTeSaPNA"
      },
      "execution_count": 12,
      "outputs": []
    }
  ]
}